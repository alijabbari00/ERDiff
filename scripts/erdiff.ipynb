{
 "cells": [
  {
   "metadata": {},
   "cell_type": "markdown",
   "source": [
    "# weights:\n",
    "- vae_model_mla, vae_model_mla.pth: both are VAE_READOUT_MODEL                  (save in MLA)\n",
    "- source_diffusion_model.pth: diff_STBlock                      (load in MLA)   (save in diffusion_train)\n",
    "- source_vae_model.pth: VAE_MODEL                               (load in MLA)\n",
    "\n",
    "# latents:\n",
    "- train_latents.npy: train_latents                              (loaded\n",
    "- test_latents.npy: test_latents\n",
    "\n",
    "# models:\n",
    "- VAE_READOUT_MODEL is VAE_MODEL + align_layer, low_d_reading_t_1 and low_d_reading_t_2\n",
    "- diff_STBlock\n"
   ],
   "id": "2d02684abe740e65"
  },
  {
   "metadata": {
    "collapsed": true,
    "ExecuteTime": {
     "end_time": "2025-07-29T15:31:08.289932Z",
     "start_time": "2025-07-29T15:31:06.359816Z"
    }
   },
   "cell_type": "code",
   "source": [
    "from model_functions.diffusion import (diff_STBlock)\n",
    "from model_functions.vae import VAE_Model\n",
    "import numpy as np\n",
    "import pickle"
   ],
   "id": "initial_id",
   "outputs": [],
   "execution_count": 1
  },
  {
   "metadata": {},
   "cell_type": "code",
   "source": [
    "dm_model = diff_STBlock()\n",
    "dm_model"
   ],
   "id": "26540f4422b555e3",
   "outputs": [],
   "execution_count": null
  },
  {
   "metadata": {},
   "cell_type": "code",
   "source": [
    "vae = VAE_Model(spike_dim=95, vel_dim=6)\n",
    "vae"
   ],
   "id": "31769629737bf41b",
   "outputs": [],
   "execution_count": null
  },
  {
   "metadata": {},
   "cell_type": "code",
   "source": [
    "# latents:\n",
    "train_latents = np.load(\"../npy_files/train_latents.npy\")\n",
    "print(train_latents.shape)\n",
    "test_latents = np.load(\"../npy_files/test_latents.npy\")\n",
    "print(test_latents.shape)\n",
    "# datasets:\n",
    "\n",
    "with open('../datasets/source_data_array.pkl', 'rb') as f:\n",
    "    train_data = pickle.load(f)\n",
    "\n",
    "with open('../datasets/target_data_array.pkl', 'rb') as f:\n",
    "    test_data = pickle.load(f)\n",
    "\n",
    "print({key: train_data[key].shape for key in train_data.keys()})\n",
    "print({key: test_data[key].shape for key in test_data.keys()})\n"
   ],
   "id": "3bb287932dcae6cb",
   "outputs": [],
   "execution_count": null
  },
  {
   "metadata": {
    "ExecuteTime": {
     "end_time": "2025-07-29T15:33:06.536814Z",
     "start_time": "2025-07-29T15:32:52.412926Z"
    }
   },
   "cell_type": "code",
   "source": "!python3 -u mla.py --learning_rate 3e-3  --batch_size 64 --appro_alpha 0.10 --ot_weight 1.0 --epoches 10 --seed 2024",
   "id": "eff946fc91cd61aa",
   "outputs": [
    {
     "name": "stdout",
     "output_type": "stream",
     "text": [
      "Config Data: {'learning_rate': 0.003, 'batch_size': 64, 'appro_alpha': 0.1, 'ot_weight': 1.0, 'epoches': 10, 'seed': 2024, 'use_dummy_dataset': False}\r\n",
      "/home/yusayura/courses/trust-proj/erdiff/ERDiff/.venv/lib/python3.10/site-packages/torch/cuda/__init__.py:129: UserWarning: CUDA initialization: CUDA unknown error - this may be due to an incorrectly set up environment, e.g. changing env variable CUDA_VISIBLE_DEVICES after program start. Setting the available devices to be zero. (Triggered internally at /pytorch/c10/cuda/CUDAFunctions.cpp:109.)\r\n",
      "  return torch._C._cuda_getDeviceCount() > 0\r\n",
      "device: cpu\r\n",
      "/home/yusayura/courses/trust-proj/erdiff/ERDiff/.venv/lib/python3.10/site-packages/torch/nn/modules/transformer.py:385: UserWarning: enable_nested_tensor is True, but self.use_nested_tensor is False because encoder_layer.self_attn.batch_first was not True(use batch_first for better inference performance)\r\n",
      "  warnings.warn(\r\n",
      "spike_day_0 shape: torch.Size([168, 14, 187]), spike_day_k shape: torch.Size([168, 14, 172])\r\n",
      "current_metric for the previously saved model is:  -64.82581934729167\r\n",
      "Epoch of: 0 Perf:\r\n",
      "Aligned R-Squared: -62.5861 | Aligned RMSE: 13.1345\r\n",
      "--------------------\r\n",
      "Best_Metric at 0 is : -62.5861\r\n",
      "Epoch of: 5 Perf:\r\n",
      "Aligned R-Squared: -48.6819 | Aligned RMSE: 12.5203\r\n",
      "--------------------\r\n",
      "Epoch of: 9 Perf:\r\n",
      "Aligned R-Squared: -39.4480 | Aligned RMSE: 12.1037\r\n",
      "--------------------\r\n",
      "Best_Metric at 9 is : -39.4480\r\n"
     ]
    }
   ],
   "execution_count": 3
  }
 ],
 "metadata": {
  "kernelspec": {
   "display_name": "Python 3",
   "language": "python",
   "name": "python3"
  },
  "language_info": {
   "codemirror_mode": {
    "name": "ipython",
    "version": 2
   },
   "file_extension": ".py",
   "mimetype": "text/x-python",
   "name": "python",
   "nbconvert_exporter": "python",
   "pygments_lexer": "ipython2",
   "version": "2.7.6"
  }
 },
 "nbformat": 4,
 "nbformat_minor": 5
}
